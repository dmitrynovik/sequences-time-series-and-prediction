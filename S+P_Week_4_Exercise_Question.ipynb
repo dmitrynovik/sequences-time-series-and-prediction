{
  "nbformat": 4,
  "nbformat_minor": 0,
  "metadata": {
    "colab": {
      "name": "S+P Week 4 Exercise Question.ipynb",
      "provenance": [],
      "collapsed_sections": []
    },
    "kernelspec": {
      "name": "python3",
      "display_name": "Python 3"
    },
    "accelerator": "GPU"
  },
  "cells": [
    {
      "cell_type": "code",
      "metadata": {
        "id": "VuQtjp7f48dy",
        "colab_type": "code",
        "colab": {}
      },
      "source": [
        ""
      ],
      "execution_count": 0,
      "outputs": []
    },
    {
      "cell_type": "code",
      "metadata": {
        "id": "GNkzTFfynsmV",
        "colab_type": "code",
        "colab": {
          "base_uri": "https://localhost:8080/",
          "height": 377
        },
        "outputId": "98d4ffab-fdbf-4c3d-aa08-5fdd08788f34"
      },
      "source": [
        "!pip install tensorflow==2.0.0b1"
      ],
      "execution_count": 2,
      "outputs": [
        {
          "output_type": "stream",
          "text": [
            "Requirement already satisfied: tensorflow==2.0.0b1 in /usr/local/lib/python3.6/dist-packages (2.0.0b1)\n",
            "Requirement already satisfied: absl-py>=0.7.0 in /usr/local/lib/python3.6/dist-packages (from tensorflow==2.0.0b1) (0.8.1)\n",
            "Requirement already satisfied: google-pasta>=0.1.6 in /usr/local/lib/python3.6/dist-packages (from tensorflow==2.0.0b1) (0.1.8)\n",
            "Requirement already satisfied: grpcio>=1.8.6 in /usr/local/lib/python3.6/dist-packages (from tensorflow==2.0.0b1) (1.15.0)\n",
            "Requirement already satisfied: gast>=0.2.0 in /usr/local/lib/python3.6/dist-packages (from tensorflow==2.0.0b1) (0.2.2)\n",
            "Requirement already satisfied: keras-applications>=1.0.6 in /usr/local/lib/python3.6/dist-packages (from tensorflow==2.0.0b1) (1.0.8)\n",
            "Requirement already satisfied: keras-preprocessing>=1.0.5 in /usr/local/lib/python3.6/dist-packages (from tensorflow==2.0.0b1) (1.1.0)\n",
            "Requirement already satisfied: six>=1.10.0 in /usr/local/lib/python3.6/dist-packages (from tensorflow==2.0.0b1) (1.12.0)\n",
            "Requirement already satisfied: astor>=0.6.0 in /usr/local/lib/python3.6/dist-packages (from tensorflow==2.0.0b1) (0.8.0)\n",
            "Requirement already satisfied: tb-nightly<1.14.0a20190604,>=1.14.0a20190603 in /usr/local/lib/python3.6/dist-packages (from tensorflow==2.0.0b1) (1.14.0a20190603)\n",
            "Requirement already satisfied: wheel>=0.26 in /usr/local/lib/python3.6/dist-packages (from tensorflow==2.0.0b1) (0.33.6)\n",
            "Requirement already satisfied: tf-estimator-nightly<1.14.0.dev2019060502,>=1.14.0.dev2019060501 in /usr/local/lib/python3.6/dist-packages (from tensorflow==2.0.0b1) (1.14.0.dev2019060501)\n",
            "Requirement already satisfied: protobuf>=3.6.1 in /usr/local/lib/python3.6/dist-packages (from tensorflow==2.0.0b1) (3.10.0)\n",
            "Requirement already satisfied: termcolor>=1.1.0 in /usr/local/lib/python3.6/dist-packages (from tensorflow==2.0.0b1) (1.1.0)\n",
            "Requirement already satisfied: wrapt>=1.11.1 in /usr/local/lib/python3.6/dist-packages (from tensorflow==2.0.0b1) (1.11.2)\n",
            "Requirement already satisfied: numpy<2.0,>=1.14.5 in /usr/local/lib/python3.6/dist-packages (from tensorflow==2.0.0b1) (1.17.4)\n",
            "Requirement already satisfied: h5py in /usr/local/lib/python3.6/dist-packages (from keras-applications>=1.0.6->tensorflow==2.0.0b1) (2.8.0)\n",
            "Requirement already satisfied: setuptools>=41.0.0 in /usr/local/lib/python3.6/dist-packages (from tb-nightly<1.14.0a20190604,>=1.14.0a20190603->tensorflow==2.0.0b1) (42.0.1)\n",
            "Requirement already satisfied: markdown>=2.6.8 in /usr/local/lib/python3.6/dist-packages (from tb-nightly<1.14.0a20190604,>=1.14.0a20190603->tensorflow==2.0.0b1) (3.1.1)\n",
            "Requirement already satisfied: werkzeug>=0.11.15 in /usr/local/lib/python3.6/dist-packages (from tb-nightly<1.14.0a20190604,>=1.14.0a20190603->tensorflow==2.0.0b1) (0.16.0)\n"
          ],
          "name": "stdout"
        }
      ]
    },
    {
      "cell_type": "code",
      "metadata": {
        "id": "56XEQOGknrAk",
        "colab_type": "code",
        "colab": {
          "base_uri": "https://localhost:8080/",
          "height": 462
        },
        "outputId": "ef554bfa-72e9-472c-dcca-e1688b611a99"
      },
      "source": [
        "import tensorflow as tf\n",
        "print(tf.__version__)"
      ],
      "execution_count": 3,
      "outputs": [
        {
          "output_type": "stream",
          "text": [
            "/usr/local/lib/python3.6/dist-packages/tensorflow/python/framework/dtypes.py:516: FutureWarning: Passing (type, 1) or '1type' as a synonym of type is deprecated; in a future version of numpy, it will be understood as (type, (1,)) / '(1,)type'.\n",
            "  _np_qint8 = np.dtype([(\"qint8\", np.int8, 1)])\n",
            "/usr/local/lib/python3.6/dist-packages/tensorflow/python/framework/dtypes.py:517: FutureWarning: Passing (type, 1) or '1type' as a synonym of type is deprecated; in a future version of numpy, it will be understood as (type, (1,)) / '(1,)type'.\n",
            "  _np_quint8 = np.dtype([(\"quint8\", np.uint8, 1)])\n",
            "/usr/local/lib/python3.6/dist-packages/tensorflow/python/framework/dtypes.py:518: FutureWarning: Passing (type, 1) or '1type' as a synonym of type is deprecated; in a future version of numpy, it will be understood as (type, (1,)) / '(1,)type'.\n",
            "  _np_qint16 = np.dtype([(\"qint16\", np.int16, 1)])\n",
            "/usr/local/lib/python3.6/dist-packages/tensorflow/python/framework/dtypes.py:519: FutureWarning: Passing (type, 1) or '1type' as a synonym of type is deprecated; in a future version of numpy, it will be understood as (type, (1,)) / '(1,)type'.\n",
            "  _np_quint16 = np.dtype([(\"quint16\", np.uint16, 1)])\n",
            "/usr/local/lib/python3.6/dist-packages/tensorflow/python/framework/dtypes.py:520: FutureWarning: Passing (type, 1) or '1type' as a synonym of type is deprecated; in a future version of numpy, it will be understood as (type, (1,)) / '(1,)type'.\n",
            "  _np_qint32 = np.dtype([(\"qint32\", np.int32, 1)])\n",
            "/usr/local/lib/python3.6/dist-packages/tensorflow/python/framework/dtypes.py:525: FutureWarning: Passing (type, 1) or '1type' as a synonym of type is deprecated; in a future version of numpy, it will be understood as (type, (1,)) / '(1,)type'.\n",
            "  np_resource = np.dtype([(\"resource\", np.ubyte, 1)])\n"
          ],
          "name": "stderr"
        },
        {
          "output_type": "stream",
          "text": [
            "2.0.0-beta1\n"
          ],
          "name": "stdout"
        },
        {
          "output_type": "stream",
          "text": [
            "/usr/local/lib/python3.6/dist-packages/tensorboard/compat/tensorflow_stub/dtypes.py:541: FutureWarning: Passing (type, 1) or '1type' as a synonym of type is deprecated; in a future version of numpy, it will be understood as (type, (1,)) / '(1,)type'.\n",
            "  _np_qint8 = np.dtype([(\"qint8\", np.int8, 1)])\n",
            "/usr/local/lib/python3.6/dist-packages/tensorboard/compat/tensorflow_stub/dtypes.py:542: FutureWarning: Passing (type, 1) or '1type' as a synonym of type is deprecated; in a future version of numpy, it will be understood as (type, (1,)) / '(1,)type'.\n",
            "  _np_quint8 = np.dtype([(\"quint8\", np.uint8, 1)])\n",
            "/usr/local/lib/python3.6/dist-packages/tensorboard/compat/tensorflow_stub/dtypes.py:543: FutureWarning: Passing (type, 1) or '1type' as a synonym of type is deprecated; in a future version of numpy, it will be understood as (type, (1,)) / '(1,)type'.\n",
            "  _np_qint16 = np.dtype([(\"qint16\", np.int16, 1)])\n",
            "/usr/local/lib/python3.6/dist-packages/tensorboard/compat/tensorflow_stub/dtypes.py:544: FutureWarning: Passing (type, 1) or '1type' as a synonym of type is deprecated; in a future version of numpy, it will be understood as (type, (1,)) / '(1,)type'.\n",
            "  _np_quint16 = np.dtype([(\"quint16\", np.uint16, 1)])\n",
            "/usr/local/lib/python3.6/dist-packages/tensorboard/compat/tensorflow_stub/dtypes.py:545: FutureWarning: Passing (type, 1) or '1type' as a synonym of type is deprecated; in a future version of numpy, it will be understood as (type, (1,)) / '(1,)type'.\n",
            "  _np_qint32 = np.dtype([(\"qint32\", np.int32, 1)])\n",
            "/usr/local/lib/python3.6/dist-packages/tensorboard/compat/tensorflow_stub/dtypes.py:550: FutureWarning: Passing (type, 1) or '1type' as a synonym of type is deprecated; in a future version of numpy, it will be understood as (type, (1,)) / '(1,)type'.\n",
            "  np_resource = np.dtype([(\"resource\", np.ubyte, 1)])\n"
          ],
          "name": "stderr"
        }
      ]
    },
    {
      "cell_type": "code",
      "metadata": {
        "id": "sLl52leVp5wU",
        "colab_type": "code",
        "colab": {}
      },
      "source": [
        "import numpy as np\n",
        "import matplotlib.pyplot as plt\n",
        "def plot_series(time, series, format=\"-\", start=0, end=None):\n",
        "    plt.plot(time[start:end], series[start:end], format)\n",
        "    plt.xlabel(\"Time\")\n",
        "    plt.ylabel(\"Value\")\n",
        "    plt.grid(True)"
      ],
      "execution_count": 0,
      "outputs": []
    },
    {
      "cell_type": "code",
      "metadata": {
        "id": "tP7oqUdkk0gY",
        "colab_type": "code",
        "colab": {
          "base_uri": "https://localhost:8080/",
          "height": 204
        },
        "outputId": "2598edd6-6797-4711-d4a3-7c2c4dbc6179"
      },
      "source": [
        "!wget --no-check-certificate \\\n",
        "    https://raw.githubusercontent.com/jbrownlee/Datasets/master/daily-min-temperatures.csv \\\n",
        "    -O /tmp/daily-min-temperatures.csv"
      ],
      "execution_count": 5,
      "outputs": [
        {
          "output_type": "stream",
          "text": [
            "--2019-12-09 04:24:42--  https://raw.githubusercontent.com/jbrownlee/Datasets/master/daily-min-temperatures.csv\n",
            "Resolving raw.githubusercontent.com (raw.githubusercontent.com)... 151.101.0.133, 151.101.64.133, 151.101.128.133, ...\n",
            "Connecting to raw.githubusercontent.com (raw.githubusercontent.com)|151.101.0.133|:443... connected.\n",
            "HTTP request sent, awaiting response... 200 OK\n",
            "Length: 67921 (66K) [text/plain]\n",
            "Saving to: ‘/tmp/daily-min-temperatures.csv’\n",
            "\n",
            "/tmp/daily-min-temp 100%[===================>]  66.33K  --.-KB/s    in 0.02s   \n",
            "\n",
            "2019-12-09 04:24:44 (2.64 MB/s) - ‘/tmp/daily-min-temperatures.csv’ saved [67921/67921]\n",
            "\n"
          ],
          "name": "stdout"
        }
      ]
    },
    {
      "cell_type": "code",
      "metadata": {
        "id": "NcG9r1eClbTh",
        "colab_type": "code",
        "colab": {
          "base_uri": "https://localhost:8080/",
          "height": 405
        },
        "outputId": "99c7d11c-aea1-4128-d1a8-372d14c12c99"
      },
      "source": [
        "import csv\n",
        "\n",
        "time_step = []\n",
        "temps = []\n",
        "\n",
        "with open('/tmp/daily-min-temperatures.csv') as csvfile:\n",
        "  reader = csv.reader(csvfile, delimiter=',')\n",
        "  next(reader)\n",
        "  step = 0\n",
        "  for row in reader:\n",
        "    time_step.append(step)\n",
        "    temps.append(float(row[1]))\n",
        "    step = step + 1\n",
        "\n",
        "samples = len(time_step)\n",
        "print('samples:', samples)\n",
        "\n",
        "series = np.array(temps)\n",
        "time = np.array(time_step)\n",
        "plt.figure(figsize=(10, 6))\n",
        "plot_series(time, series)"
      ],
      "execution_count": 13,
      "outputs": [
        {
          "output_type": "stream",
          "text": [
            "samples: 3650\n"
          ],
          "name": "stdout"
        },
        {
          "output_type": "display_data",
          "data": {
            "image/png": "[encoded data removed]",
            "text/plain": [
              "<Figure size 720x432 with 1 Axes>"
            ]
          },
          "metadata": {
            "tags": []
          }
        }
      ]
    },
    {
      "cell_type": "code",
      "metadata": {
        "id": "L92YRw_IpCFG",
        "colab_type": "code",
        "colab": {}
      },
      "source": [
        "split_time = 2500\n",
        "time_train = time[:split_time]\n",
        "x_train = series[:split_time]\n",
        "time_valid = time[split_time:]\n",
        "x_valid = series[split_time:]\n",
        "\n",
        "window_size = 30\n",
        "batch_size = 32\n",
        "shuffle_buffer_size = 1000\n",
        "\n"
      ],
      "execution_count": 0,
      "outputs": []
    },
    {
      "cell_type": "code",
      "metadata": {
        "id": "lJwUUZscnG38",
        "colab_type": "code",
        "colab": {}
      },
      "source": [
        "def windowed_dataset(series, window_size, batch_size, shuffle_buffer):\n",
        "    series = tf.expand_dims(series, axis=-1)\n",
        "    ds = tf.data.Dataset.from_tensor_slices(series)\n",
        "    ds = ds.window(window_size + 1, shift=1, drop_remainder=True)\n",
        "    ds = ds.flat_map(lambda w: w.batch(window_size + 1))\n",
        "    ds = ds.shuffle(shuffle_buffer)\n",
        "    ds = ds.map(lambda w: (w[:-1], w[1:]))\n",
        "    return ds.batch(batch_size).prefetch(1)"
      ],
      "execution_count": 0,
      "outputs": []
    },
    {
      "cell_type": "code",
      "metadata": {
        "id": "4XwGrf-A_wF0",
        "colab_type": "code",
        "colab": {}
      },
      "source": [
        "def model_forecast(model, series, window_size):\n",
        "    ds = tf.data.Dataset.from_tensor_slices(series)\n",
        "    ds = ds.window(window_size, shift=1, drop_remainder=True)\n",
        "    ds = ds.flat_map(lambda w: w.batch(window_size))\n",
        "    ds = ds.batch(batch_size).prefetch(1)\n",
        "    forecast = model.predict(ds)\n",
        "    return forecast"
      ],
      "execution_count": 0,
      "outputs": []
    },
    {
      "cell_type": "code",
      "metadata": {
        "id": "AclfYY3Mn6Ph",
        "colab_type": "code",
        "outputId": "520d57fd-bf93-4b2e-f0ec-79ab1be9ac48",
        "colab": {
          "base_uri": "https://localhost:8080/",
          "height": 1000
        }
      },
      "source": [
        "tf.keras.backend.clear_session()\n",
        "tf.random.set_seed(51)\n",
        "np.random.seed(51)\n",
        "window_size = 64\n",
        "batch_size = 256\n",
        "train_set = windowed_dataset(x_train, window_size, batch_size, shuffle_buffer_size)\n",
        "print(train_set)\n",
        "print(x_train.shape)\n",
        "\n",
        "model = tf.keras.models.Sequential([\n",
        "  tf.keras.layers.Conv1D(filters=32, kernel_size=5,\n",
        "                      strides=1, padding=\"causal\",\n",
        "                      activation=\"relu\",\n",
        "                      input_shape=[None, 1]),\n",
        "  tf.keras.layers.LSTM(64, return_sequences=True),\n",
        "  tf.keras.layers.LSTM(64, return_sequences=True),\n",
        "  tf.keras.layers.Dense(30, activation=\"relu\"),\n",
        "  tf.keras.layers.Dense(10, activation=\"relu\"),\n",
        "  tf.keras.layers.Dense(1),\n",
        "  tf.keras.layers.Lambda(lambda x: x * 400)])\n",
        "\n",
        "lr_schedule = tf.keras.callbacks.LearningRateScheduler(lambda epoch: 1e-8 * 10**(epoch / 20))\n",
        "optimizer = tf.keras.optimizers.SGD(lr=1e-8, momentum=0.9)\n",
        "model.compile(loss=tf.keras.losses.Huber(), optimizer=optimizer, metrics=[\"mae\"])\n",
        "history = model.fit(train_set, epochs=100, callbacks=[lr_schedule])\n"
      ],
      "execution_count": 20,
      "outputs": [
        {
          "output_type": "stream",
          "text": [
            "<PrefetchDataset shapes: ((None, None, 1), (None, None, 1)), types: (tf.float64, tf.float64)>\n",
            "(2500,)\n",
            "Epoch 1/100\n",
            "10/10 [==============================] - 7s 701ms/step - loss: 31.1549 - mae: 31.6551\n",
            "Epoch 2/100\n",
            "10/10 [==============================] - 4s 425ms/step - loss: 30.5696 - mae: 31.0771\n",
            "Epoch 3/100\n",
            "10/10 [==============================] - 4s 428ms/step - loss: 29.6691 - mae: 30.1811\n",
            "Epoch 4/100\n",
            "10/10 [==============================] - 4s 424ms/step - loss: 28.5431 - mae: 29.0596\n",
            "Epoch 5/100\n",
            "10/10 [==============================] - 4s 424ms/step - loss: 27.1744 - mae: 27.6976\n",
            "Epoch 6/100\n",
            "10/10 [==============================] - 4s 427ms/step - loss: 25.4676 - mae: 26.0015\n",
            "Epoch 7/100\n",
            "10/10 [==============================] - 4s 420ms/step - loss: 23.2987 - mae: 23.8487\n",
            "Epoch 8/100\n",
            "10/10 [==============================] - 4s 422ms/step - loss: 20.5506 - mae: 21.1192\n",
            "Epoch 9/100\n",
            "10/10 [==============================] - 4s 422ms/step - loss: 17.2408 - mae: 17.8223\n",
            "Epoch 10/100\n",
            "10/10 [==============================] - 4s 426ms/step - loss: 13.5549 - mae: 14.1350\n",
            "Epoch 11/100\n",
            "10/10 [==============================] - 4s 429ms/step - loss: 10.0753 - mae: 10.6367\n",
            "Epoch 12/100\n",
            "10/10 [==============================] - 4s 425ms/step - loss: 7.5638 - mae: 8.0985\n",
            "Epoch 13/100\n",
            "10/10 [==============================] - 4s 427ms/step - loss: 6.2445 - mae: 6.7619\n",
            "Epoch 14/100\n",
            "10/10 [==============================] - 4s 424ms/step - loss: 5.6749 - mae: 6.1854\n",
            "Epoch 15/100\n",
            "10/10 [==============================] - 4s 420ms/step - loss: 5.3090 - mae: 5.8168\n",
            "Epoch 16/100\n",
            "10/10 [==============================] - 4s 429ms/step - loss: 4.9122 - mae: 5.4169\n",
            "Epoch 17/100\n",
            "10/10 [==============================] - 4s 423ms/step - loss: 4.5318 - mae: 5.0305\n",
            "Epoch 18/100\n",
            "10/10 [==============================] - 4s 424ms/step - loss: 4.2115 - mae: 4.7068\n",
            "Epoch 19/100\n",
            "10/10 [==============================] - 4s 426ms/step - loss: 3.9429 - mae: 4.4360\n",
            "Epoch 20/100\n",
            "10/10 [==============================] - 4s 427ms/step - loss: 3.7309 - mae: 4.2194\n",
            "Epoch 21/100\n",
            "10/10 [==============================] - 4s 427ms/step - loss: 3.5706 - mae: 4.0551\n",
            "Epoch 22/100\n",
            "10/10 [==============================] - 4s 421ms/step - loss: 3.4527 - mae: 3.9344\n",
            "Epoch 23/100\n",
            "10/10 [==============================] - 4s 423ms/step - loss: 3.3617 - mae: 3.8423\n",
            "Epoch 24/100\n",
            "10/10 [==============================] - 4s 418ms/step - loss: 3.2876 - mae: 3.7666\n",
            "Epoch 25/100\n",
            "10/10 [==============================] - 4s 422ms/step - loss: 3.2224 - mae: 3.6997\n",
            "Epoch 26/100\n",
            "10/10 [==============================] - 4s 414ms/step - loss: 3.1596 - mae: 3.6359\n",
            "Epoch 27/100\n",
            "10/10 [==============================] - 4s 418ms/step - loss: 3.0964 - mae: 3.5717\n",
            "Epoch 28/100\n",
            "10/10 [==============================] - 4s 422ms/step - loss: 3.0322 - mae: 3.5064\n",
            "Epoch 29/100\n",
            "10/10 [==============================] - 4s 423ms/step - loss: 2.9662 - mae: 3.4392\n",
            "Epoch 30/100\n",
            "10/10 [==============================] - 4s 428ms/step - loss: 2.9004 - mae: 3.3720\n",
            "Epoch 31/100\n",
            "10/10 [==============================] - 4s 415ms/step - loss: 2.8376 - mae: 3.3081\n",
            "Epoch 32/100\n",
            "10/10 [==============================] - 4s 416ms/step - loss: 2.7775 - mae: 3.2475\n",
            "Epoch 33/100\n",
            "10/10 [==============================] - 4s 414ms/step - loss: 2.7202 - mae: 3.1899\n",
            "Epoch 34/100\n",
            "10/10 [==============================] - 4s 416ms/step - loss: 2.6662 - mae: 3.1360\n",
            "Epoch 35/100\n",
            "10/10 [==============================] - 4s 416ms/step - loss: 2.6152 - mae: 3.0848\n",
            "Epoch 36/100\n",
            "10/10 [==============================] - 4s 414ms/step - loss: 2.5663 - mae: 3.0353\n",
            "Epoch 37/100\n",
            "10/10 [==============================] - 4s 414ms/step - loss: 2.5192 - mae: 2.9872\n",
            "Epoch 38/100\n",
            "10/10 [==============================] - 4s 417ms/step - loss: 2.4735 - mae: 2.9408\n",
            "Epoch 39/100\n",
            "10/10 [==============================] - 4s 420ms/step - loss: 2.4296 - mae: 2.8964\n",
            "Epoch 40/100\n",
            "10/10 [==============================] - 4s 420ms/step - loss: 2.3873 - mae: 2.8534\n",
            "Epoch 41/100\n",
            "10/10 [==============================] - 4s 427ms/step - loss: 2.3463 - mae: 2.8119\n",
            "Epoch 42/100\n",
            "10/10 [==============================] - 4s 413ms/step - loss: 2.3060 - mae: 2.7707\n",
            "Epoch 43/100\n",
            "10/10 [==============================] - 4s 418ms/step - loss: 2.2663 - mae: 2.7301\n",
            "Epoch 44/100\n",
            "10/10 [==============================] - 4s 413ms/step - loss: 2.2269 - mae: 2.6899\n",
            "Epoch 45/100\n",
            "10/10 [==============================] - 4s 409ms/step - loss: 2.1898 - mae: 2.6519\n",
            "Epoch 46/100\n",
            "10/10 [==============================] - 4s 416ms/step - loss: 2.1563 - mae: 2.6181\n",
            "Epoch 47/100\n",
            "10/10 [==============================] - 4s 410ms/step - loss: 2.1248 - mae: 2.5861\n",
            "Epoch 48/100\n",
            "10/10 [==============================] - 4s 414ms/step - loss: 2.0958 - mae: 2.5568\n",
            "Epoch 49/100\n",
            "10/10 [==============================] - 4s 410ms/step - loss: 2.0688 - mae: 2.5296\n",
            "Epoch 50/100\n",
            "10/10 [==============================] - 4s 410ms/step - loss: 2.0442 - mae: 2.5045\n",
            "Epoch 51/100\n",
            "10/10 [==============================] - 4s 413ms/step - loss: 2.0220 - mae: 2.4818\n",
            "Epoch 52/100\n",
            "10/10 [==============================] - 4s 410ms/step - loss: 2.0018 - mae: 2.4611\n",
            "Epoch 53/100\n",
            "10/10 [==============================] - 4s 418ms/step - loss: 1.9801 - mae: 2.4393\n",
            "Epoch 54/100\n",
            "10/10 [==============================] - 4s 410ms/step - loss: 1.9586 - mae: 2.4171\n",
            "Epoch 55/100\n",
            "10/10 [==============================] - 4s 412ms/step - loss: 1.9390 - mae: 2.3972\n",
            "Epoch 56/100\n",
            "10/10 [==============================] - 4s 415ms/step - loss: 1.9186 - mae: 2.3763\n",
            "Epoch 57/100\n",
            "10/10 [==============================] - 4s 415ms/step - loss: 1.8975 - mae: 2.3550\n",
            "Epoch 58/100\n",
            "10/10 [==============================] - 4s 420ms/step - loss: 1.8743 - mae: 2.3320\n",
            "Epoch 59/100\n",
            "10/10 [==============================] - 4s 413ms/step - loss: 1.8738 - mae: 2.3310\n",
            "Epoch 60/100\n",
            "10/10 [==============================] - 4s 410ms/step - loss: 2.1527 - mae: 2.6201\n",
            "Epoch 61/100\n",
            "10/10 [==============================] - 4s 415ms/step - loss: 2.6764 - mae: 3.1247\n",
            "Epoch 62/100\n",
            "10/10 [==============================] - 4s 414ms/step - loss: 2.9935 - mae: 3.4806\n",
            "Epoch 63/100\n",
            "10/10 [==============================] - 4s 421ms/step - loss: 3.5219 - mae: 3.9875\n",
            "Epoch 64/100\n",
            "10/10 [==============================] - 4s 411ms/step - loss: 3.8284 - mae: 4.2965\n",
            "Epoch 65/100\n",
            "10/10 [==============================] - 4s 414ms/step - loss: 4.1265 - mae: 4.5856\n",
            "Epoch 66/100\n",
            "10/10 [==============================] - 4s 418ms/step - loss: 4.3062 - mae: 4.7664\n",
            "Epoch 67/100\n",
            "10/10 [==============================] - 4s 415ms/step - loss: 4.3039 - mae: 4.6838\n",
            "Epoch 68/100\n",
            "10/10 [==============================] - 4s 419ms/step - loss: 4.8341 - mae: 5.2257\n",
            "Epoch 69/100\n",
            "10/10 [==============================] - 4s 415ms/step - loss: 10.3352 - mae: 10.7649\n",
            "Epoch 70/100\n",
            "10/10 [==============================] - 4s 413ms/step - loss: 5.4020 - mae: 5.8328\n",
            "Epoch 71/100\n",
            "10/10 [==============================] - 4s 416ms/step - loss: 5.9798 - mae: 6.4835\n",
            "Epoch 72/100\n",
            "10/10 [==============================] - 4s 415ms/step - loss: 5.4958 - mae: 6.0146\n",
            "Epoch 73/100\n",
            "10/10 [==============================] - 4s 411ms/step - loss: 4.4955 - mae: 5.0201\n",
            "Epoch 74/100\n",
            "10/10 [==============================] - 4s 415ms/step - loss: 4.4764 - mae: 5.0171\n",
            "Epoch 75/100\n",
            "10/10 [==============================] - 4s 414ms/step - loss: 4.2825 - mae: 4.7287\n",
            "Epoch 76/100\n",
            "10/10 [==============================] - 4s 413ms/step - loss: 4.2044 - mae: 4.6470\n",
            "Epoch 77/100\n",
            "10/10 [==============================] - 4s 414ms/step - loss: 4.4160 - mae: 4.9125\n",
            "Epoch 78/100\n",
            "10/10 [==============================] - 4s 408ms/step - loss: 4.3770 - mae: 4.8831\n",
            "Epoch 79/100\n",
            "10/10 [==============================] - 4s 418ms/step - loss: 5.0487 - mae: 5.5839\n",
            "Epoch 80/100\n",
            "10/10 [==============================] - 4s 416ms/step - loss: 10.0358 - mae: 10.8604\n",
            "Epoch 81/100\n",
            "10/10 [==============================] - 4s 419ms/step - loss: 3.1176 - mae: 3.6060\n",
            "Epoch 82/100\n",
            "10/10 [==============================] - 4s 414ms/step - loss: 3.0097 - mae: 3.4891\n",
            "Epoch 83/100\n",
            "10/10 [==============================] - 4s 415ms/step - loss: 2.7912 - mae: 3.2609\n",
            "Epoch 84/100\n",
            "10/10 [==============================] - 4s 416ms/step - loss: 4.3135 - mae: 4.7803\n",
            "Epoch 85/100\n",
            "10/10 [==============================] - 4s 413ms/step - loss: 5.3703 - mae: 5.8508\n",
            "Epoch 86/100\n",
            "10/10 [==============================] - 4s 415ms/step - loss: 6.5221 - mae: 7.0175\n",
            "Epoch 87/100\n",
            "10/10 [==============================] - 4s 408ms/step - loss: 7.1154 - mae: 7.7249\n",
            "Epoch 88/100\n",
            "10/10 [==============================] - 4s 414ms/step - loss: 8.9975 - mae: 9.4580\n",
            "Epoch 89/100\n",
            "10/10 [==============================] - 4s 417ms/step - loss: 9.8069 - mae: 10.1397\n",
            "Epoch 90/100\n",
            "10/10 [==============================] - 4s 412ms/step - loss: 11.1364 - mae: 11.6797\n",
            "Epoch 91/100\n",
            "10/10 [==============================] - 4s 415ms/step - loss: 12.5922 - mae: 13.2602\n",
            "Epoch 92/100\n",
            "10/10 [==============================] - 4s 414ms/step - loss: 14.2512 - mae: 14.8289\n",
            "Epoch 93/100\n",
            "10/10 [==============================] - 4s 415ms/step - loss: 13.0192 - mae: 13.8809\n",
            "Epoch 94/100\n",
            "10/10 [==============================] - 4s 415ms/step - loss: 61.8923 - mae: 63.5737\n",
            "Epoch 95/100\n",
            "10/10 [==============================] - 4s 419ms/step - loss: 30.5821 - mae: 31.4688\n",
            "Epoch 96/100\n",
            "10/10 [==============================] - 4s 421ms/step - loss: 45.9889 - mae: 46.9740\n",
            "Epoch 97/100\n",
            "10/10 [==============================] - 4s 418ms/step - loss: 51.7050 - mae: 51.8100\n",
            "Epoch 98/100\n",
            "10/10 [==============================] - 4s 414ms/step - loss: 59.1678 - mae: 57.9463\n",
            "Epoch 99/100\n",
            "10/10 [==============================] - 4s 413ms/step - loss: 66.1686 - mae: 68.4903\n",
            "Epoch 100/100\n",
            "10/10 [==============================] - 4s 416ms/step - loss: 74.1415 - mae: 72.0624\n"
          ],
          "name": "stdout"
        }
      ]
    },
    {
      "cell_type": "code",
      "metadata": {
        "id": "vVcKmg7Q_7rD",
        "colab_type": "code",
        "outputId": "11bbb69e-bdf5-451f-abe2-a37d8dbc0743",
        "colab": {
          "base_uri": "https://localhost:8080/",
          "height": 290
        }
      },
      "source": [
        "plt.semilogx(history.history[\"lr\"], history.history[\"loss\"])\n",
        "plt.axis([1e-8, 1e-4, 0, 60])"
      ],
      "execution_count": 22,
      "outputs": [
        {
          "output_type": "execute_result",
          "data": {
            "text/plain": [
              "[1e-08, 0.0001, 0, 60]"
            ]
          },
          "metadata": {
            "tags": []
          },
          "execution_count": 22
        },
        {
          "output_type": "display_data",
          "data": {
            "image/png": "[encoded data removed]",
            "text/plain": [
              "<Figure size 432x288 with 1 Axes>"
            ]
          },
          "metadata": {
            "tags": []
          }
        }
      ]
    },
    {
      "cell_type": "code",
      "metadata": {
        "id": "QsksvkcXAAgq",
        "colab_type": "code",
        "outputId": "26102340-38a8-4594-ab8e-f7cf0c39b8d7",
        "colab": {
          "base_uri": "https://localhost:8080/",
          "height": 1000
        }
      },
      "source": [
        "tf.keras.backend.clear_session()\n",
        "tf.random.set_seed(51)\n",
        "np.random.seed(51)\n",
        "train_set = windowed_dataset(x_train, window_size=64, batch_size=100, shuffle_buffer=shuffle_buffer_size)\n",
        "model = tf.keras.models.Sequential([\n",
        "  tf.keras.layers.Conv1D(filters=32, kernel_size=5, strides=1, padding=\"causal\", activation=\"relu\", input_shape=[None, 1]),\n",
        "  tf.keras.layers.LSTM(64, return_sequences=True),\n",
        "  tf.keras.layers.LSTM(64, return_sequences=True),\n",
        "  tf.keras.layers.Dense(30, activation=\"relu\"),\n",
        "  tf.keras.layers.Dense(10, activation=\"relu\"),\n",
        "  tf.keras.layers.Dense(1),\n",
        "  tf.keras.layers.Lambda(lambda x: x * 400)\n",
        "])\n",
        "\n",
        "optimizer = tf.keras.optimizers.SGD(lr=8e-6, momentum=0.9)\n",
        "model.compile(loss=tf.keras.losses.Huber(),\n",
        "              optimizer=optimizer,\n",
        "              metrics=[\"mae\"])\n",
        "history = model.fit(train_set,epochs=150)\n",
        "                                    \n",
        "# EXPECTED OUTPUT SHOULD SEE AN MAE OF <2 WITHIN ABOUT 30 EPOCHS"
      ],
      "execution_count": 28,
      "outputs": [
        {
          "output_type": "stream",
          "text": [
            "Epoch 1/150\n",
            "25/25 [==============================] - 8s 331ms/step - loss: 11.9613 - mae: 12.5675\n",
            "Epoch 2/150\n",
            "25/25 [==============================] - 6s 222ms/step - loss: 3.6701 - mae: 4.1828\n",
            "Epoch 3/150\n",
            "25/25 [==============================] - 6s 220ms/step - loss: 2.1548 - mae: 2.6209\n",
            "Epoch 4/150\n",
            "25/25 [==============================] - 6s 221ms/step - loss: 1.9497 - mae: 2.4080\n",
            "Epoch 5/150\n",
            "25/25 [==============================] - 6s 224ms/step - loss: 1.8598 - mae: 2.3146\n",
            "Epoch 6/150\n",
            "25/25 [==============================] - 6s 221ms/step - loss: 1.8119 - mae: 2.2657\n",
            "Epoch 7/150\n",
            "25/25 [==============================] - 6s 225ms/step - loss: 1.7837 - mae: 2.2373\n",
            "Epoch 8/150\n",
            "25/25 [==============================] - 5s 220ms/step - loss: 1.7587 - mae: 2.2124\n",
            "Epoch 9/150\n",
            "25/25 [==============================] - 6s 221ms/step - loss: 1.7392 - mae: 2.1928\n",
            "Epoch 10/150\n",
            "25/25 [==============================] - 6s 221ms/step - loss: 1.7218 - mae: 2.1752\n",
            "Epoch 11/150\n",
            "25/25 [==============================] - 6s 223ms/step - loss: 1.7070 - mae: 2.1602\n",
            "Epoch 12/150\n",
            "25/25 [==============================] - 6s 220ms/step - loss: 1.6942 - mae: 2.1472\n",
            "Epoch 13/150\n",
            "25/25 [==============================] - 6s 221ms/step - loss: 1.6822 - mae: 2.1349\n",
            "Epoch 14/150\n",
            "25/25 [==============================] - 5s 218ms/step - loss: 1.6713 - mae: 2.1238\n",
            "Epoch 15/150\n",
            "25/25 [==============================] - 6s 222ms/step - loss: 1.6616 - mae: 2.1138\n",
            "Epoch 16/150\n",
            "25/25 [==============================] - 6s 223ms/step - loss: 1.6529 - mae: 2.1048\n",
            "Epoch 17/150\n",
            "25/25 [==============================] - 6s 225ms/step - loss: 1.6447 - mae: 2.0963\n",
            "Epoch 18/150\n",
            "25/25 [==============================] - 5s 219ms/step - loss: 1.6370 - mae: 2.0882\n",
            "Epoch 19/150\n",
            "25/25 [==============================] - 5s 220ms/step - loss: 1.6297 - mae: 2.0807\n",
            "Epoch 20/150\n",
            "25/25 [==============================] - 5s 215ms/step - loss: 1.6225 - mae: 2.0731\n",
            "Epoch 21/150\n",
            "25/25 [==============================] - 6s 221ms/step - loss: 1.6156 - mae: 2.0657\n",
            "Epoch 22/150\n",
            "25/25 [==============================] - 6s 221ms/step - loss: 1.6091 - mae: 2.0588\n",
            "Epoch 23/150\n",
            "25/25 [==============================] - 5s 218ms/step - loss: 1.6025 - mae: 2.0518\n",
            "Epoch 24/150\n",
            "25/25 [==============================] - 5s 218ms/step - loss: 1.5964 - mae: 2.0453\n",
            "Epoch 25/150\n",
            "25/25 [==============================] - 5s 215ms/step - loss: 1.5908 - mae: 2.0394\n",
            "Epoch 26/150\n",
            "25/25 [==============================] - 6s 221ms/step - loss: 1.5857 - mae: 2.0339\n",
            "Epoch 27/150\n",
            "25/25 [==============================] - 5s 216ms/step - loss: 1.5806 - mae: 2.0284\n",
            "Epoch 28/150\n",
            "25/25 [==============================] - 5s 218ms/step - loss: 1.5756 - mae: 2.0230\n",
            "Epoch 29/150\n",
            "25/25 [==============================] - 5s 218ms/step - loss: 1.5708 - mae: 2.0179\n",
            "Epoch 30/150\n",
            "25/25 [==============================] - 6s 220ms/step - loss: 1.5662 - mae: 2.0132\n",
            "Epoch 31/150\n",
            "25/25 [==============================] - 5s 218ms/step - loss: 1.5621 - mae: 2.0088\n",
            "Epoch 32/150\n",
            "25/25 [==============================] - 5s 220ms/step - loss: 1.5584 - mae: 2.0049\n",
            "Epoch 33/150\n",
            "25/25 [==============================] - 5s 218ms/step - loss: 1.5549 - mae: 2.0013\n",
            "Epoch 34/150\n",
            "25/25 [==============================] - 5s 218ms/step - loss: 1.5515 - mae: 1.9977\n",
            "Epoch 35/150\n",
            "25/25 [==============================] - 5s 217ms/step - loss: 1.5484 - mae: 1.9945\n",
            "Epoch 36/150\n",
            "25/25 [==============================] - 5s 220ms/step - loss: 1.5457 - mae: 1.9916\n",
            "Epoch 37/150\n",
            "25/25 [==============================] - 6s 220ms/step - loss: 1.5429 - mae: 1.9887\n",
            "Epoch 38/150\n",
            "25/25 [==============================] - 5s 219ms/step - loss: 1.5407 - mae: 1.9863\n",
            "Epoch 39/150\n",
            "25/25 [==============================] - 5s 219ms/step - loss: 1.5384 - mae: 1.9839\n",
            "Epoch 40/150\n",
            "25/25 [==============================] - 5s 215ms/step - loss: 1.5363 - mae: 1.9817\n",
            "Epoch 41/150\n",
            "25/25 [==============================] - 5s 218ms/step - loss: 1.5342 - mae: 1.9795\n",
            "Epoch 42/150\n",
            "25/25 [==============================] - 5s 218ms/step - loss: 1.5324 - mae: 1.9775\n",
            "Epoch 43/150\n",
            "25/25 [==============================] - 5s 216ms/step - loss: 1.5306 - mae: 1.9755\n",
            "Epoch 44/150\n",
            "25/25 [==============================] - 5s 217ms/step - loss: 1.5290 - mae: 1.9739\n",
            "Epoch 45/150\n",
            "25/25 [==============================] - 5s 218ms/step - loss: 1.5276 - mae: 1.9724\n",
            "Epoch 46/150\n",
            "25/25 [==============================] - 5s 220ms/step - loss: 1.5261 - mae: 1.9709\n",
            "Epoch 47/150\n",
            "25/25 [==============================] - 5s 214ms/step - loss: 1.5250 - mae: 1.9698\n",
            "Epoch 48/150\n",
            "25/25 [==============================] - 6s 220ms/step - loss: 1.5238 - mae: 1.9685\n",
            "Epoch 49/150\n",
            "25/25 [==============================] - 5s 217ms/step - loss: 1.5226 - mae: 1.9672\n",
            "Epoch 50/150\n",
            "25/25 [==============================] - 5s 216ms/step - loss: 1.5217 - mae: 1.9663\n",
            "Epoch 51/150\n",
            "25/25 [==============================] - 5s 218ms/step - loss: 1.5207 - mae: 1.9653\n",
            "Epoch 52/150\n",
            "25/25 [==============================] - 5s 217ms/step - loss: 1.5198 - mae: 1.9643\n",
            "Epoch 53/150\n",
            "25/25 [==============================] - 5s 217ms/step - loss: 1.5190 - mae: 1.9635\n",
            "Epoch 54/150\n",
            "25/25 [==============================] - 5s 218ms/step - loss: 1.5183 - mae: 1.9628\n",
            "Epoch 55/150\n",
            "25/25 [==============================] - 5s 215ms/step - loss: 1.5175 - mae: 1.9620\n",
            "Epoch 56/150\n",
            "25/25 [==============================] - 5s 218ms/step - loss: 1.5165 - mae: 1.9610\n",
            "Epoch 57/150\n",
            "25/25 [==============================] - 5s 219ms/step - loss: 1.5161 - mae: 1.9607\n",
            "Epoch 58/150\n",
            "25/25 [==============================] - 5s 215ms/step - loss: 1.5159 - mae: 1.9606\n",
            "Epoch 59/150\n",
            "25/25 [==============================] - 5s 219ms/step - loss: 1.5154 - mae: 1.9601\n",
            "Epoch 60/150\n",
            "25/25 [==============================] - 5s 218ms/step - loss: 1.5151 - mae: 1.9598\n",
            "Epoch 61/150\n",
            "25/25 [==============================] - 5s 218ms/step - loss: 1.5150 - mae: 1.9597\n",
            "Epoch 62/150\n",
            "25/25 [==============================] - 5s 219ms/step - loss: 1.5145 - mae: 1.9591\n",
            "Epoch 63/150\n",
            "25/25 [==============================] - 5s 219ms/step - loss: 1.5139 - mae: 1.9586\n",
            "Epoch 64/150\n",
            "25/25 [==============================] - 5s 216ms/step - loss: 1.5131 - mae: 1.9578\n",
            "Epoch 65/150\n",
            "25/25 [==============================] - 5s 218ms/step - loss: 1.5124 - mae: 1.9571\n",
            "Epoch 66/150\n",
            "25/25 [==============================] - 5s 217ms/step - loss: 1.5121 - mae: 1.9567\n",
            "Epoch 67/150\n",
            "25/25 [==============================] - 5s 220ms/step - loss: 1.5116 - mae: 1.9562\n",
            "Epoch 68/150\n",
            "25/25 [==============================] - 5s 218ms/step - loss: 1.5107 - mae: 1.9552\n",
            "Epoch 69/150\n",
            "25/25 [==============================] - 5s 219ms/step - loss: 1.5101 - mae: 1.9547\n",
            "Epoch 70/150\n",
            "25/25 [==============================] - 5s 216ms/step - loss: 1.5091 - mae: 1.9535\n",
            "Epoch 71/150\n",
            "25/25 [==============================] - 5s 217ms/step - loss: 1.5083 - mae: 1.9528\n",
            "Epoch 72/150\n",
            "25/25 [==============================] - 5s 219ms/step - loss: 1.5075 - mae: 1.9520\n",
            "Epoch 73/150\n",
            "25/25 [==============================] - 6s 222ms/step - loss: 1.5065 - mae: 1.9509\n",
            "Epoch 74/150\n",
            "25/25 [==============================] - 6s 221ms/step - loss: 1.5061 - mae: 1.9505\n",
            "Epoch 75/150\n",
            "25/25 [==============================] - 5s 215ms/step - loss: 1.5051 - mae: 1.9494\n",
            "Epoch 76/150\n",
            "25/25 [==============================] - 5s 218ms/step - loss: 1.5043 - mae: 1.9486\n",
            "Epoch 77/150\n",
            "25/25 [==============================] - 5s 214ms/step - loss: 1.5035 - mae: 1.9478\n",
            "Epoch 78/150\n",
            "25/25 [==============================] - 5s 218ms/step - loss: 1.5028 - mae: 1.9470\n",
            "Epoch 79/150\n",
            "25/25 [==============================] - 5s 217ms/step - loss: 1.5020 - mae: 1.9461\n",
            "Epoch 80/150\n",
            "25/25 [==============================] - 5s 214ms/step - loss: 1.5015 - mae: 1.9457\n",
            "Epoch 81/150\n",
            "25/25 [==============================] - 5s 220ms/step - loss: 1.5010 - mae: 1.9451\n",
            "Epoch 82/150\n",
            "25/25 [==============================] - 5s 216ms/step - loss: 1.5004 - mae: 1.9445\n",
            "Epoch 83/150\n",
            "25/25 [==============================] - 5s 217ms/step - loss: 1.4999 - mae: 1.9439\n",
            "Epoch 84/150\n",
            "25/25 [==============================] - 5s 215ms/step - loss: 1.4993 - mae: 1.9434\n",
            "Epoch 85/150\n",
            "25/25 [==============================] - 5s 216ms/step - loss: 1.4985 - mae: 1.9426\n",
            "Epoch 86/150\n",
            "25/25 [==============================] - 5s 215ms/step - loss: 1.4979 - mae: 1.9419\n",
            "Epoch 87/150\n",
            "25/25 [==============================] - 5s 217ms/step - loss: 1.4973 - mae: 1.9412\n",
            "Epoch 88/150\n",
            "25/25 [==============================] - 5s 215ms/step - loss: 1.4968 - mae: 1.9407\n",
            "Epoch 89/150\n",
            "25/25 [==============================] - 5s 217ms/step - loss: 1.4962 - mae: 1.9401\n",
            "Epoch 90/150\n",
            "25/25 [==============================] - 5s 218ms/step - loss: 1.4955 - mae: 1.9394\n",
            "Epoch 91/150\n",
            "25/25 [==============================] - 5s 213ms/step - loss: 1.4951 - mae: 1.9390\n",
            "Epoch 92/150\n",
            "25/25 [==============================] - 5s 216ms/step - loss: 1.4945 - mae: 1.9383\n",
            "Epoch 93/150\n",
            "25/25 [==============================] - 5s 217ms/step - loss: 1.4939 - mae: 1.9377\n",
            "Epoch 94/150\n",
            "25/25 [==============================] - 5s 218ms/step - loss: 1.4936 - mae: 1.9373\n",
            "Epoch 95/150\n",
            "25/25 [==============================] - 5s 214ms/step - loss: 1.4930 - mae: 1.9367\n",
            "Epoch 96/150\n",
            "25/25 [==============================] - 5s 216ms/step - loss: 1.4930 - mae: 1.9367\n",
            "Epoch 97/150\n",
            "25/25 [==============================] - 5s 215ms/step - loss: 1.4925 - mae: 1.9362\n",
            "Epoch 98/150\n",
            "25/25 [==============================] - 6s 220ms/step - loss: 1.4920 - mae: 1.9356\n",
            "Epoch 99/150\n",
            "25/25 [==============================] - 5s 217ms/step - loss: 1.4913 - mae: 1.9349\n",
            "Epoch 100/150\n",
            "25/25 [==============================] - 6s 222ms/step - loss: 1.4907 - mae: 1.9343\n",
            "Epoch 101/150\n",
            "25/25 [==============================] - 5s 215ms/step - loss: 1.4901 - mae: 1.9337\n",
            "Epoch 102/150\n",
            "25/25 [==============================] - 5s 219ms/step - loss: 1.4899 - mae: 1.9335\n",
            "Epoch 103/150\n",
            "25/25 [==============================] - 5s 216ms/step - loss: 1.4892 - mae: 1.9328\n",
            "Epoch 104/150\n",
            "25/25 [==============================] - 5s 217ms/step - loss: 1.4883 - mae: 1.9318\n",
            "Epoch 105/150\n",
            "25/25 [==============================] - 5s 216ms/step - loss: 1.4873 - mae: 1.9308\n",
            "Epoch 106/150\n",
            "25/25 [==============================] - 5s 216ms/step - loss: 1.4868 - mae: 1.9302\n",
            "Epoch 107/150\n",
            "25/25 [==============================] - 5s 218ms/step - loss: 1.4865 - mae: 1.9299\n",
            "Epoch 108/150\n",
            "25/25 [==============================] - 5s 218ms/step - loss: 1.4858 - mae: 1.9292\n",
            "Epoch 109/150\n",
            "25/25 [==============================] - 5s 214ms/step - loss: 1.4858 - mae: 1.9291\n",
            "Epoch 110/150\n",
            "25/25 [==============================] - 5s 216ms/step - loss: 1.4855 - mae: 1.9288\n",
            "Epoch 111/150\n",
            "25/25 [==============================] - 5s 216ms/step - loss: 1.4853 - mae: 1.9286\n",
            "Epoch 112/150\n",
            "25/25 [==============================] - 5s 217ms/step - loss: 1.4851 - mae: 1.9284\n",
            "Epoch 113/150\n",
            "25/25 [==============================] - 5s 218ms/step - loss: 1.4848 - mae: 1.9280\n",
            "Epoch 114/150\n",
            "25/25 [==============================] - 5s 217ms/step - loss: 1.4845 - mae: 1.9278\n",
            "Epoch 115/150\n",
            "25/25 [==============================] - 5s 215ms/step - loss: 1.4840 - mae: 1.9272\n",
            "Epoch 116/150\n",
            "25/25 [==============================] - 5s 217ms/step - loss: 1.4835 - mae: 1.9267\n",
            "Epoch 117/150\n",
            "25/25 [==============================] - 5s 214ms/step - loss: 1.4832 - mae: 1.9264\n",
            "Epoch 118/150\n",
            "25/25 [==============================] - 5s 216ms/step - loss: 1.4826 - mae: 1.9257\n",
            "Epoch 119/150\n",
            "25/25 [==============================] - 5s 217ms/step - loss: 1.4825 - mae: 1.9256\n",
            "Epoch 120/150\n",
            "25/25 [==============================] - 5s 216ms/step - loss: 1.4822 - mae: 1.9253\n",
            "Epoch 121/150\n",
            "25/25 [==============================] - 5s 217ms/step - loss: 1.4819 - mae: 1.9250\n",
            "Epoch 122/150\n",
            "25/25 [==============================] - 5s 218ms/step - loss: 1.4815 - mae: 1.9245\n",
            "Epoch 123/150\n",
            "25/25 [==============================] - 5s 216ms/step - loss: 1.4811 - mae: 1.9241\n",
            "Epoch 124/150\n",
            "25/25 [==============================] - 5s 218ms/step - loss: 1.4809 - mae: 1.9239\n",
            "Epoch 125/150\n",
            "25/25 [==============================] - 5s 216ms/step - loss: 1.4805 - mae: 1.9234\n",
            "Epoch 126/150\n",
            "25/25 [==============================] - 5s 217ms/step - loss: 1.4800 - mae: 1.9230\n",
            "Epoch 127/150\n",
            "25/25 [==============================] - 5s 216ms/step - loss: 1.4794 - mae: 1.9222\n",
            "Epoch 128/150\n",
            "25/25 [==============================] - 5s 215ms/step - loss: 1.4793 - mae: 1.9222\n",
            "Epoch 129/150\n",
            "25/25 [==============================] - 5s 216ms/step - loss: 1.4789 - mae: 1.9217\n",
            "Epoch 130/150\n",
            "25/25 [==============================] - 5s 220ms/step - loss: 1.4787 - mae: 1.9215\n",
            "Epoch 131/150\n",
            "25/25 [==============================] - 6s 222ms/step - loss: 1.4781 - mae: 1.9209\n",
            "Epoch 132/150\n",
            "25/25 [==============================] - 5s 215ms/step - loss: 1.4776 - mae: 1.9202\n",
            "Epoch 133/150\n",
            "25/25 [==============================] - 5s 218ms/step - loss: 1.4774 - mae: 1.9200\n",
            "Epoch 134/150\n",
            "25/25 [==============================] - 5s 216ms/step - loss: 1.4772 - mae: 1.9198\n",
            "Epoch 135/150\n",
            "25/25 [==============================] - 5s 217ms/step - loss: 1.4771 - mae: 1.9197\n",
            "Epoch 136/150\n",
            "25/25 [==============================] - 5s 217ms/step - loss: 1.4766 - mae: 1.9192\n",
            "Epoch 137/150\n",
            "25/25 [==============================] - 5s 215ms/step - loss: 1.4764 - mae: 1.9190\n",
            "Epoch 138/150\n",
            "25/25 [==============================] - 5s 218ms/step - loss: 1.4760 - mae: 1.9186\n",
            "Epoch 139/150\n",
            "25/25 [==============================] - 5s 218ms/step - loss: 1.4756 - mae: 1.9181\n",
            "Epoch 140/150\n",
            "25/25 [==============================] - 5s 217ms/step - loss: 1.4753 - mae: 1.9178\n",
            "Epoch 141/150\n",
            "25/25 [==============================] - 5s 215ms/step - loss: 1.4751 - mae: 1.9176\n",
            "Epoch 142/150\n",
            "25/25 [==============================] - 5s 216ms/step - loss: 1.4747 - mae: 1.9172\n",
            "Epoch 143/150\n",
            "25/25 [==============================] - 5s 212ms/step - loss: 1.4743 - mae: 1.9168\n",
            "Epoch 144/150\n",
            "25/25 [==============================] - 5s 217ms/step - loss: 1.4739 - mae: 1.9163\n",
            "Epoch 145/150\n",
            "25/25 [==============================] - 5s 216ms/step - loss: 1.4737 - mae: 1.9161\n",
            "Epoch 146/150\n",
            "25/25 [==============================] - 5s 219ms/step - loss: 1.4734 - mae: 1.9157\n",
            "Epoch 147/150\n",
            "25/25 [==============================] - 5s 217ms/step - loss: 1.4731 - mae: 1.9154\n",
            "Epoch 148/150\n",
            "25/25 [==============================] - 5s 214ms/step - loss: 1.4727 - mae: 1.9150\n",
            "Epoch 149/150\n",
            "25/25 [==============================] - 5s 219ms/step - loss: 1.4723 - mae: 1.9146\n",
            "Epoch 150/150\n",
            "25/25 [==============================] - 5s 217ms/step - loss: 1.4720 - mae: 1.9142\n"
          ],
          "name": "stdout"
        }
      ]
    },
    {
      "cell_type": "code",
      "metadata": {
        "id": "GaC6NNMRp0lb",
        "colab_type": "code",
        "colab": {}
      },
      "source": [
        "rnn_forecast = model_forecast(model, series[..., np.newaxis], window_size)\n",
        "rnn_forecast = rnn_forecast[split_time - window_size:-1, -1, 0]"
      ],
      "execution_count": 0,
      "outputs": []
    },
    {
      "cell_type": "code",
      "metadata": {
        "colab_type": "code",
        "id": "izy6wl2S9d-2",
        "colab": {
          "base_uri": "https://localhost:8080/",
          "height": 389
        },
        "outputId": "e3dd4a83-63e7-4833-bb59-1657fd5fbab8"
      },
      "source": [
        "plt.figure(figsize=(10, 6))\n",
        "plot_series(time_valid, x_valid)\n",
        "plot_series(time_valid, rnn_forecast)\n",
        "\n",
        "# EXPECTED OUTPUT. PLOT SHOULD SHOW PROJECTIONS FOLLOWING ORIGINAL DATA CLOSELY"
      ],
      "execution_count": 30,
      "outputs": [
        {
          "output_type": "display_data",
          "data": {
            "image/png": "[encoded data removed]",
            "text/plain": [
              "<Figure size 720x432 with 1 Axes>"
            ]
          },
          "metadata": {
            "tags": []
          }
        }
      ]
    },
    {
      "cell_type": "code",
      "metadata": {
        "id": "13XrorC5wQoE",
        "colab_type": "code",
        "outputId": "c7dcf1d0-4e59-4ba1-bbad-b9dd128f5650",
        "colab": {
          "base_uri": "https://localhost:8080/",
          "height": 34
        }
      },
      "source": [
        "tf.keras.metrics.mean_absolute_error(x_valid, rnn_forecast).numpy()\n",
        "\n",
        "# EXPECTED OUTPUT MAE < 2 -- I GOT 1.789626"
      ],
      "execution_count": 31,
      "outputs": [
        {
          "output_type": "execute_result",
          "data": {
            "text/plain": [
              "1.8121395"
            ]
          },
          "metadata": {
            "tags": []
          },
          "execution_count": 31
        }
      ]
    },
    {
      "cell_type": "code",
      "metadata": {
        "id": "AOVzQXxCwkzP",
        "colab_type": "code",
        "outputId": "06aef1f1-8a32-4121-db13-1375453749d2",
        "colab": {
          "base_uri": "https://localhost:8080/",
          "height": 34
        }
      },
      "source": [
        "print(rnn_forecast)\n",
        "# EXPECTED OUTPUT -- ARRAY OF VALUES IN THE LOW TEENS"
      ],
      "execution_count": 32,
      "outputs": [
        {
          "output_type": "stream",
          "text": [
            "[11.438684 10.395794 11.777727 ... 13.880043 14.215533 15.64766 ]\n"
          ],
          "name": "stdout"
        }
      ]
    }
  ]
}